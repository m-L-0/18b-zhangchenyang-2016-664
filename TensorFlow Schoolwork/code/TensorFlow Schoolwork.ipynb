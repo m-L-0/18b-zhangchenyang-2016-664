{
 "cells": [
  {
   "cell_type": "code",
   "execution_count": 5,
   "metadata": {
    "scrolled": true
   },
   "outputs": [],
   "source": [
    "#使用TensorFlow设计K近邻模型，并使用鸢尾花数据集训练、验证模型。\n",
    "from sklearn.datasets import load_iris\n",
    "from sklearn.model_selection import train_test_split\n",
    "import tensorflow as tf\n",
    "import numpy as np"
   ]
  },
  {
   "cell_type": "code",
   "execution_count": 6,
   "metadata": {},
   "outputs": [],
   "source": [
    "#将鸢尾花数据集安装8 : 2的比例划分成训练集与验证集（数据集部分可使用Dataset API，也可以不使用）。\n",
    "data = load_iris()\n",
    "X_train,X_test,y_train,y_test = train_test_split(data.data,data.target,test_size = 0.2)"
   ]
  },
  {
   "cell_type": "code",
   "execution_count": 7,
   "metadata": {},
   "outputs": [],
   "source": [
    "#设计模型：\n",
    "    #使用TensorFlow设计K近邻模型（可不使用KD树优化算法）\n",
    "    #模型关键部分需添加注释\n",
    "tf.enable_eager_execution()\n",
    "x = tf.Variable(X_test[0])\n",
    "y = tf.Variable(y_test[0])\n",
    "y_predict = [1,1,1]\n",
    "k = tf.Variable(3)\n",
    "init = tf.global_variables_initializer()\n",
    "#distance    \n",
    "distance=tf.pow(tf.reduce_sum(tf.abs(tf.add(X_train,tf.negative(x))),axis=1),-1)\n",
    "index = tf.nn.top_k(distance, k)\n",
    "indices = tf.transpose(index.indices)\n",
    "\n",
    "adh = [y_train[indices[0]],y_train[indices[1]],y_train[indices[2]]]\n",
    "\n",
    "for i in range(3):\n",
    "    if adh[i]==0:\n",
    "        y_predict[0]=y_predict[0]+1\n",
    "    elif adh[i]==1:\n",
    "        y_predict[1]=y_predict[1]+1\n",
    "        \n",
    "    else :\n",
    "        y_predict[2]=y_predict[2]+1\n",
    "\n",
    "pre_index = tf.nn.top_k(y_predict,1).indices\n",
    "\n"
   ]
  },
  {
   "cell_type": "code",
   "execution_count": 8,
   "metadata": {},
   "outputs": [
    {
     "name": "stdout",
     "output_type": "stream",
     "text": [
      "正确率是：\n",
      "0.9666666666666667\n"
     ]
    }
   ],
   "source": [
    "#验证模型：\n",
    "    #使用验证集检测模型性能\n",
    "    #使用验证集调整超参数\n",
    "count = 0\n",
    "for i in range(30):\n",
    "    x = tf.Variable(X_test[i])\n",
    "    y = tf.Variable(y_test[i])\n",
    "    y_predict = [1,1,1]\n",
    "    k = tf.Variable(3)\n",
    "    init = tf.global_variables_initializer()\n",
    "    #distance    \n",
    "    distance=tf.pow(tf.reduce_sum(tf.abs(tf.add(X_train,tf.negative(x))),axis=1),-1)\n",
    "    index = tf.nn.top_k(distance, k)\n",
    "    indices = tf.transpose(index.indices)\n",
    "\n",
    "    adh = [y_train[indices[0]],y_train[indices[1]],y_train[indices[2]]]\n",
    "    \n",
    "    for i in range(3):\n",
    "        if adh[i]==0:\n",
    "            y_predict[0]=y_predict[0]+1\n",
    "        elif adh[i]==1:\n",
    "            y_predict[1]=y_predict[1]+1\n",
    "\n",
    "        else :\n",
    "            y_predict[2]=y_predict[2]+1\n",
    "    pre_index = tf.nn.top_k(y_predict,1).indices\n",
    "    if int(pre_index) == int(y):\n",
    "        count = count+1\n",
    "print(\"正确率是：\")    \n",
    "print(count/30)\n",
    "   \n",
    "\n",
    "       \n"
   ]
  },
  {
   "cell_type": "code",
   "execution_count": null,
   "metadata": {},
   "outputs": [],
   "source": [
    "\n",
    "   \n"
   ]
  },
  {
   "cell_type": "code",
   "execution_count": null,
   "metadata": {},
   "outputs": [],
   "source": []
  },
  {
   "cell_type": "code",
   "execution_count": null,
   "metadata": {},
   "outputs": [],
   "source": []
  },
  {
   "cell_type": "code",
   "execution_count": null,
   "metadata": {},
   "outputs": [],
   "source": []
  },
  {
   "cell_type": "code",
   "execution_count": null,
   "metadata": {},
   "outputs": [],
   "source": []
  },
  {
   "cell_type": "code",
   "execution_count": null,
   "metadata": {},
   "outputs": [],
   "source": []
  },
  {
   "cell_type": "code",
   "execution_count": null,
   "metadata": {},
   "outputs": [],
   "source": []
  },
  {
   "cell_type": "code",
   "execution_count": null,
   "metadata": {},
   "outputs": [],
   "source": []
  },
  {
   "cell_type": "code",
   "execution_count": null,
   "metadata": {},
   "outputs": [],
   "source": []
  }
 ],
 "metadata": {
  "kernelspec": {
   "display_name": "Python 3",
   "language": "python",
   "name": "python3"
  },
  "language_info": {
   "codemirror_mode": {
    "name": "ipython",
    "version": 3
   },
   "file_extension": ".py",
   "mimetype": "text/x-python",
   "name": "python",
   "nbconvert_exporter": "python",
   "pygments_lexer": "ipython3",
   "version": "3.5.2"
  }
 },
 "nbformat": 4,
 "nbformat_minor": 2
}
