{
 "cells": [
  {
   "cell_type": "code",
   "execution_count": 7,
   "metadata": {},
   "outputs": [],
   "source": [
    "import pandas as pd\n",
    "import numpy as np\n",
    "import scipy.io as sio\n",
    "from sklearn.decomposition import  KernelPCA\n",
    "from sklearn.ensemble import GradientBoostingClassifier"
   ]
  },
  {
   "cell_type": "markdown",
   "metadata": {},
   "source": [
    "导入数据"
   ]
  },
  {
   "cell_type": "code",
   "execution_count": 8,
   "metadata": {},
   "outputs": [],
   "source": [
    "a = open(\"D:/QQ下载/机器学习/高光谱分类/9个类别的数据集-train/data2_train.mat\",'rb')\n",
    "a_x = sio.loadmat(a) \n",
    "a_x = a_x[\"data2_train\"]\n",
    "a_y = np.zeros(1071)"
   ]
  },
  {
   "cell_type": "code",
   "execution_count": 9,
   "metadata": {},
   "outputs": [],
   "source": [
    "b = open(\"D:/QQ下载/机器学习/高光谱分类/9个类别的数据集-train/data3_train.mat\",'rb')\n",
    "b_x = sio.loadmat(b) \n",
    "b_x = b_x[\"data3_train\"]\n",
    "b_y = np.ones(622)"
   ]
  },
  {
   "cell_type": "code",
   "execution_count": 10,
   "metadata": {},
   "outputs": [],
   "source": [
    "c = open(\"D:/QQ下载/机器学习/高光谱分类/9个类别的数据集-train/data5_train.mat\",'rb')\n",
    "c_x = sio.loadmat(c) \n",
    "c_x = c_x[\"data5_train\"]\n",
    "c_y = np.ones(362)*2\n"
   ]
  },
  {
   "cell_type": "code",
   "execution_count": 11,
   "metadata": {},
   "outputs": [],
   "source": [
    "d = open(\"D:/QQ下载/机器学习/高光谱分类/9个类别的数据集-train/data6_train.mat\",'rb')\n",
    "d_x = sio.loadmat(d) \n",
    "d_x = d_x[\"data6_train\"]\n",
    "d_y = np.ones(547)*3"
   ]
  },
  {
   "cell_type": "code",
   "execution_count": 12,
   "metadata": {},
   "outputs": [],
   "source": [
    "e = open(\"D:/QQ下载/机器学习/高光谱分类/9个类别的数据集-train/data8_train.mat\",'rb')\n",
    "e_x = sio.loadmat(e) \n",
    "e_x = e_x[\"data8_train\"]\n",
    "e_y = np.ones(358)*4"
   ]
  },
  {
   "cell_type": "code",
   "execution_count": 13,
   "metadata": {},
   "outputs": [],
   "source": [
    "f = open(\"D:/QQ下载/机器学习/高光谱分类/9个类别的数据集-train/data10_train.mat\",'rb')\n",
    "f_x = sio.loadmat(f) \n",
    "f_x = f_x[\"data10_train\"]\n",
    "f_y = np.ones(729)*5"
   ]
  },
  {
   "cell_type": "code",
   "execution_count": 14,
   "metadata": {},
   "outputs": [],
   "source": [
    "g = open(\"D:/QQ下载/机器学习/高光谱分类/9个类别的数据集-train/data11_train.mat\",'rb')\n",
    "g_x = sio.loadmat(g) \n",
    "g_x = g_x[\"data11_train\"]\n",
    "g_y = np.ones(1841)*6"
   ]
  },
  {
   "cell_type": "code",
   "execution_count": 15,
   "metadata": {},
   "outputs": [],
   "source": [
    "h = open(\"D:/QQ下载/机器学习/高光谱分类/9个类别的数据集-train/data12_train.mat\",'rb')\n",
    "h_x = sio.loadmat(h) \n",
    "h_x = h_x[\"data12_train\"]\n",
    "h_y = np.ones(445)*7"
   ]
  },
  {
   "cell_type": "code",
   "execution_count": 16,
   "metadata": {},
   "outputs": [],
   "source": [
    "i = open(\"D:/QQ下载/机器学习/高光谱分类/9个类别的数据集-train/data14_train.mat\",'rb')\n",
    "i_x = sio.loadmat(i) \n",
    "i_x = i_x[\"data14_train\"]\n",
    "i_y = np.ones(949)*8"
   ]
  },
  {
   "cell_type": "code",
   "execution_count": 17,
   "metadata": {},
   "outputs": [],
   "source": [
    "x = np.row_stack((a_x,b_x,c_x,d_x,e_x,f_x,g_x,h_x,i_x))\n",
    "y = np.hstack((a_y,b_y,c_y,d_y,e_y,f_y,g_y,h_y,i_y))"
   ]
  },
  {
   "cell_type": "markdown",
   "metadata": {},
   "source": [
    "利用核pca进行降维"
   ]
  },
  {
   "cell_type": "code",
   "execution_count": 18,
   "metadata": {},
   "outputs": [],
   "source": [
    "transformer = KernelPCA(n_components=18, kernel='rbf')\n",
    "x = transformer.fit_transform(x)\n",
    "y= np.ravel(y)\n"
   ]
  },
  {
   "cell_type": "markdown",
   "metadata": {},
   "source": [
    "将训练集划分"
   ]
  },
  {
   "cell_type": "code",
   "execution_count": 19,
   "metadata": {},
   "outputs": [],
   "source": [
    "from sklearn.model_selection import train_test_split\n",
    "x_train,x_test,y_train,y_test = train_test_split(x,y,test_size=0.3,random_state = 0)\n"
   ]
  },
  {
   "cell_type": "markdown",
   "metadata": {},
   "source": [
    "训练梯度提升分类器"
   ]
  },
  {
   "cell_type": "code",
   "execution_count": 20,
   "metadata": {},
   "outputs": [],
   "source": [
    "clf = GradientBoostingClassifier(n_estimators=120, learning_rate=0.77,\n",
    "     max_depth=1,random_state=0,min_samples_split=3).fit(x_train, y_train)\n"
   ]
  },
  {
   "cell_type": "code",
   "execution_count": null,
   "metadata": {},
   "outputs": [],
   "source": [
    "print(clf.score(x_test,y_test))"
   ]
  },
  {
   "cell_type": "markdown",
   "metadata": {},
   "source": [
    "交叉验证评估分类器性能"
   ]
  },
  {
   "cell_type": "code",
   "execution_count": 22,
   "metadata": {},
   "outputs": [
    {
     "name": "stdout",
     "output_type": "stream",
     "text": [
      "[0.6016436 0.798873  0.4537961]\n"
     ]
    }
   ],
   "source": [
    "z = clf.predict(x_test)\n",
    "from sklearn.model_selection import cross_val_score\n",
    "print(cross_val_score(clf, x, y, cv=3)) "
   ]
  },
  {
   "cell_type": "markdown",
   "metadata": {},
   "source": [
    "对测试集进行预测"
   ]
  },
  {
   "cell_type": "code",
   "execution_count": 25,
   "metadata": {},
   "outputs": [],
   "source": [
    "test = open(\"D:/QQ下载/机器学习/高光谱分类/data_test_final.mat\",'rb')\n",
    "test = sio.loadmat(test) \n",
    "test = test[\"data_test_final\"]\n",
    "test = transformer.fit_transform(test)"
   ]
  },
  {
   "cell_type": "code",
   "execution_count": 26,
   "metadata": {},
   "outputs": [
    {
     "name": "stdout",
     "output_type": "stream",
     "text": [
      "[8. 6. 3. ... 8. 8. 8.]\n"
     ]
    }
   ],
   "source": [
    "print(clf.predict(test))"
   ]
  },
  {
   "cell_type": "code",
   "execution_count": null,
   "metadata": {},
   "outputs": [],
   "source": []
  },
  {
   "cell_type": "code",
   "execution_count": null,
   "metadata": {},
   "outputs": [],
   "source": []
  },
  {
   "cell_type": "code",
   "execution_count": null,
   "metadata": {},
   "outputs": [],
   "source": []
  }
 ],
 "metadata": {
  "kernelspec": {
   "display_name": "Python 3",
   "language": "python",
   "name": "python3"
  },
  "language_info": {
   "codemirror_mode": {
    "name": "ipython",
    "version": 3
   },
   "file_extension": ".py",
   "mimetype": "text/x-python",
   "name": "python",
   "nbconvert_exporter": "python",
   "pygments_lexer": "ipython3",
   "version": "3.6.4"
  }
 },
 "nbformat": 4,
 "nbformat_minor": 2
}
